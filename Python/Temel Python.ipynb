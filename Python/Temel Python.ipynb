{
 "cells": [
  {
   "cell_type": "markdown",
   "metadata": {},
   "source": [
    "# İşlemler"
   ]
  },
  {
   "cell_type": "code",
   "execution_count": null,
   "metadata": {},
   "outputs": [],
   "source": [
    "3 + 4  # Toplama\n",
    "\n",
    "5-17   #Çıkarma\n",
    "\n",
    "13 * 4 #Çarpma\n",
    "\n",
    "4/2  #Bölme\n",
    "\n",
    "a += 2  #a'yı ikişer arttırır\n",
    "\n",
    "a -= 3  #a'yı üçer azaltır\n",
    "\n",
    "b *= 3  #b'yi üç ile çarpar\n",
    "\n",
    "4**2  #kare alma\n",
    "\n",
    "4**0.5  #kök alma\n",
    "\n",
    "13 // 4 = 3 #tamsayı bölmesi\n",
    "\n",
    "13 % 4 =1 #kalan bulma\n",
    "\n",
    "\"\"\"\n",
    "işlemlerde\n",
    "1. Parantez içi her zaman önce yapılır.\n",
    "2. Çarpma ve Bölme her zaman Toplama ve Çıkarma işlemine göre önce yapılır.\n",
    "3. İşlemler soldan sağa değerlendirilir.\n",
    "\"\"\"\n"
   ]
  },
  {
   "cell_type": "markdown",
   "metadata": {},
   "source": [
    "# Stringler"
   ]
  },
  {
   "cell_type": "code",
   "execution_count": null,
   "metadata": {},
   "outputs": [],
   "source": [
    "\"erol\", 'erol', \"\"\"erol\"\"\"  #Stringler\n",
    "\n",
    "a=\"erol\"  a[1]=r  a[-1]=l \n",
    "\n",
    "print(a[4:12:3]) #4den başlayıp 10'a kadar 2'şer atlayarak yazdırır\n",
    "\n",
    "len(a) # uzunluğu verir\n",
    "\n",
    "float(a), int(a), str(a) #dönüşümler\n",
    "\n",
    "\\n # alt satıra geçer\n",
    "\n",
    "\\t #tab boşluk bırakır\n",
    "\n",
    "type(a) #veri tipini verir\n",
    "\n",
    "print(3,4,5,6,sep = \"/\") #degerlerin arasına sep parametrinin içerisindeki karakteri koyar\n",
    "\n",
    "print(*\"Python\")  # * koyulursa string karakterleri bosluk bırakılarak yazılır\n",
    "\n",
    "print(\"{} + {} 'nin toplamı {} 'dır\".format(a,b,a+b))  #format \n",
    "\n",
    "\n"
   ]
  },
  {
   "cell_type": "markdown",
   "metadata": {},
   "source": [
    "# Listeler"
   ]
  },
  {
   "cell_type": "code",
   "execution_count": null,
   "metadata": {},
   "outputs": [],
   "source": [
    "a=[], a=list()  #boş liste\n",
    "\n",
    "liste =  [3,4,5,6,\"Elma\",3.14,5.324] #liste\n",
    "\n",
    "print(liste[1:4:-1]) #listenin 1. elemanından 4.elemanına kadar tersten yazdır\n",
    "\n",
    "liste1 =  [1,2,3,4,5]    liste2 =  [6,7,8,9,10]   print(liste1 + liste2) #iki listeyi uç uça ekleyip yazar\n",
    "\n",
    "liste =  liste + [5]  #listenin sonuna eleman ekler\n",
    "\n",
    "print(liste * 3) #listeyi 3 kez ard arda yazar\n",
    "\n",
    "liste.append(7) #listenin sonuna 7 elemanını ekler\n",
    "\n",
    "liste.pop() #deger vermezsek son elemanı, deger verirse girilen indexteki elemanı siler\n",
    "\n",
    "liste.sort() #listeyi küçükten büyüğe sıralar elemanlar harf ise alfabetik sıralar\n",
    "\n",
    "liste.sort(reverse = True) # Büyükten küçüğe sıralar.\n",
    "\n",
    "liste1 = [1,2]\n",
    "liste2 = [3,4]\n",
    "yeniliste = [liste1,liste2] = [[1, 2], [3, 4]] #iç içe liste matris oluşturur\n",
    "\n",
    "liste.insert(1,\"a\") #1. indexe a kareri eklenir\n",
    " \n"
   ]
  },
  {
   "cell_type": "markdown",
   "metadata": {},
   "source": [
    "# Demetler (tuple)"
   ]
  },
  {
   "cell_type": "code",
   "execution_count": null,
   "metadata": {},
   "outputs": [],
   "source": [
    "#listeden farkı demetlerin elemanları değiştirilemez\n",
    "\n",
    "demet = (1,2,3,4,5,6,7,8,9)  # demet oluşturduk\n",
    "\n",
    "demet[4] #4. indexe ulaşır\n",
    "\n",
    "demet.index(\"Erol\") #Demet içerindeki Erol elemanının indexini verir\n",
    "\n",
    "demet.count(1) #demet içerindeki 1 elemanının kaç tane olduğunu verir\n",
    "\n"
   ]
  },
  {
   "cell_type": "markdown",
   "metadata": {},
   "source": [
    "# Sözlük (Dictionary)"
   ]
  },
  {
   "cell_type": "code",
   "execution_count": null,
   "metadata": {},
   "outputs": [],
   "source": [
    "sözlük1 = {\"sıfır\":0,\"bir\":1,\"iki\":2,\"üç\":3}  #sözlük oluşturduk\n",
    "\n",
    "sözlük1[\"bir\"]=1 #bir degerine karşılık 1 karakterini verir\n",
    "\n",
    "sözlük2 = {} , sözlük2 = dict() #boş sözlük oluşturduk\n",
    "\n",
    "print(a[\"iki\"][1][1]) #iki degerine karşılık gelen iç içe listenin 1,1 indexindeki elemanı yazar\n",
    "\n",
    "a = {\"bir\":1,\"iki\":2,\"üç\":3},  a[\"dört\"] = 4 #sözlüğe rastgele bir yere elemanı ekler\n",
    "\n",
    "a = {\"sayılar\":{\"bir\":1,\"iki\":2,\"üç\":3},\"meyveler\":{\"kiraz\":\"yaz\",\"portakal\":\"kış\",\"erik\":\"yaz\"}} #iç içe sözlük\n",
    "\n",
    "sözlük = {\"bir\":1,\"iki\":2,\"üç\":3}\n",
    "sözlük.values() = dict_values([1, 2, 3])\n",
    "sözlük.keys() = dict_keys(['bir', 'iki', 'üç'])\n",
    "sözlük.items() = dict_items([('bir', 1), ('iki', 2), ('üç', 3)])\n",
    "\n"
   ]
  },
  {
   "cell_type": "markdown",
   "metadata": {},
   "source": [
    "# İnput Alma"
   ]
  },
  {
   "cell_type": "code",
   "execution_count": null,
   "metadata": {},
   "outputs": [],
   "source": [
    "input() #string olarak input alır parantez içerisine ekrana basılacak yazı girilir\n",
    "\n",
    "raw_input(\"\")\n",
    "\n"
   ]
  },
  {
   "cell_type": "markdown",
   "metadata": {},
   "source": [
    "# Mantıksal Degerler"
   ]
  },
  {
   "cell_type": "code",
   "execution_count": null,
   "metadata": {},
   "outputs": [],
   "source": [
    "a =  True #boolean değişken\n",
    "\n",
    "<, >, ==, !=, >=, <=\n",
    "\n",
    "and #ve\n",
    "\n",
    "or #veya\n",
    "\n",
    "not #degil\n",
    "\n",
    "if a==1:\n",
    "    print(\"a=1\")\n",
    "elif a==2:\n",
    "    print(\"a=2\")\n",
    "else\n",
    "    print(a)\n",
    "    "
   ]
  },
  {
   "cell_type": "markdown",
   "metadata": {},
   "source": [
    "# Döngüler"
   ]
  },
  {
   "cell_type": "code",
   "execution_count": null,
   "metadata": {},
   "outputs": [],
   "source": [
    "while(a>5):  #while döngüsü\n",
    "    print(a)\n",
    "    \n",
    "\"a\" in \"merhaba\" =True #in kullanımı\n",
    "10 in [1,2,3,4] =False #in kullanımı\n",
    "\n",
    "for eleman in veri_yapısı(liste,demet vs):\n",
    "    Yapılacak İşlemler\n",
    "        \n",
    "liste = [1,2,3,4,5,6,7],  for eleman in liste: #liste elemanları kadar döngü olur\n",
    "    \n",
    "demet =  (1,2,3,4,5,6,7), for eleman in demet: #demet elemanları kadar döngü olur\n",
    "\n",
    "sözlük = {\"bir\":1,\"iki\":2,\"üç\":3,\"dört\":4}  #sözlük ile döngü\n",
    "for eleman in sözlük.keys():\n",
    "for eleman in sözlük.values():\n",
    "for (i,j) in sözlük.items():\n",
    "    \n",
    "liste = [(1,2),(3,4),(5,6),(7,8)],  for (i,j) in liste: #iki değişkenli döngü\n",
    "    "
   ]
  },
  {
   "cell_type": "code",
   "execution_count": null,
   "metadata": {},
   "outputs": [],
   "source": [
    "liste = list(range(0,20,2) #0'dan 20'e birer atlayarak dizi oluşturup listeye atar\n",
    "\n",
    "liste = list(range(0,20,-1) #20'den 0'a dizi oluşturup listeye atar\n",
    "            \n",
    "for sayı in range(0,10): #10 tur döngü\n",
    "             \n",
    "break #while ve for döngüsünden çıkartır\n",
    "             \n",
    "continue #döngüye devam ettirmez başa döndürür\n",
    "        \n",
    "liste1 = [1,2,3,4,5] #list Comprehension\n",
    "liste2 = [i*2 for i in liste1] \n",
    "print(liste2) = [2, 4, 6, 8, 10]\n",
    "             \n",
    "liste1 = [1,2,3,4,5] # List Comprehension\n",
    "liste2 = [i*2 for i in liste1] \n",
    "print(liste2) = [2, 4, 6, 8, 10]"
   ]
  }
 ],
 "metadata": {
  "kernelspec": {
   "display_name": "Python 2",
   "language": "python",
   "name": "python2"
  },
  "language_info": {
   "codemirror_mode": {
    "name": "ipython",
    "version": 2
   },
   "file_extension": ".py",
   "mimetype": "text/x-python",
   "name": "python",
   "nbconvert_exporter": "python",
   "pygments_lexer": "ipython2",
   "version": "2.7.12"
  }
 },
 "nbformat": 4,
 "nbformat_minor": 2
}
